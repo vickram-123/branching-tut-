{
 "cells": [
  {
   "cell_type": "markdown",
   "id": "925f7e7f",
   "metadata": {},
   "source": [
    "# Target feature selling price "
   ]
  },
  {
   "cell_type": "code",
   "execution_count": 1,
   "id": "953d1dbd",
   "metadata": {},
   "outputs": [],
   "source": [
    "# import libraries "
   ]
  },
  {
   "cell_type": "code",
   "execution_count": 2,
   "id": "5be6d9bf",
   "metadata": {},
   "outputs": [],
   "source": [
    "import pandas as pd\n",
    "import numpy as np\n",
    "import seaborn as sns \n",
    "import matplotlib.pyplot as plt "
   ]
  },
  {
   "cell_type": "code",
   "execution_count": 3,
   "id": "5f454960",
   "metadata": {},
   "outputs": [],
   "source": [
    "df = pd.read_csv('BIKE DETAILS.csv')"
   ]
  },
  {
   "cell_type": "code",
   "execution_count": 4,
   "id": "595f82c7",
   "metadata": {},
   "outputs": [
    {
     "data": {
      "text/html": [
       "<div>\n",
       "<style scoped>\n",
       "    .dataframe tbody tr th:only-of-type {\n",
       "        vertical-align: middle;\n",
       "    }\n",
       "\n",
       "    .dataframe tbody tr th {\n",
       "        vertical-align: top;\n",
       "    }\n",
       "\n",
       "    .dataframe thead th {\n",
       "        text-align: right;\n",
       "    }\n",
       "</style>\n",
       "<table border=\"1\" class=\"dataframe\">\n",
       "  <thead>\n",
       "    <tr style=\"text-align: right;\">\n",
       "      <th></th>\n",
       "      <th>name</th>\n",
       "      <th>selling_price</th>\n",
       "      <th>year</th>\n",
       "      <th>seller_type</th>\n",
       "      <th>owner</th>\n",
       "      <th>km_driven</th>\n",
       "      <th>ex_showroom_price</th>\n",
       "    </tr>\n",
       "  </thead>\n",
       "  <tbody>\n",
       "    <tr>\n",
       "      <th>0</th>\n",
       "      <td>Royal Enfield Classic 350</td>\n",
       "      <td>175000</td>\n",
       "      <td>2019</td>\n",
       "      <td>Individual</td>\n",
       "      <td>1st owner</td>\n",
       "      <td>350</td>\n",
       "      <td>NaN</td>\n",
       "    </tr>\n",
       "    <tr>\n",
       "      <th>1</th>\n",
       "      <td>Honda Dio</td>\n",
       "      <td>45000</td>\n",
       "      <td>2017</td>\n",
       "      <td>Individual</td>\n",
       "      <td>1st owner</td>\n",
       "      <td>5650</td>\n",
       "      <td>NaN</td>\n",
       "    </tr>\n",
       "    <tr>\n",
       "      <th>2</th>\n",
       "      <td>Royal Enfield Classic Gunmetal Grey</td>\n",
       "      <td>150000</td>\n",
       "      <td>2018</td>\n",
       "      <td>Individual</td>\n",
       "      <td>1st owner</td>\n",
       "      <td>12000</td>\n",
       "      <td>148114.0</td>\n",
       "    </tr>\n",
       "    <tr>\n",
       "      <th>3</th>\n",
       "      <td>Yamaha Fazer FI V 2.0 [2016-2018]</td>\n",
       "      <td>65000</td>\n",
       "      <td>2015</td>\n",
       "      <td>Individual</td>\n",
       "      <td>1st owner</td>\n",
       "      <td>23000</td>\n",
       "      <td>89643.0</td>\n",
       "    </tr>\n",
       "    <tr>\n",
       "      <th>4</th>\n",
       "      <td>Yamaha SZ [2013-2014]</td>\n",
       "      <td>20000</td>\n",
       "      <td>2011</td>\n",
       "      <td>Individual</td>\n",
       "      <td>2nd owner</td>\n",
       "      <td>21000</td>\n",
       "      <td>NaN</td>\n",
       "    </tr>\n",
       "    <tr>\n",
       "      <th>...</th>\n",
       "      <td>...</td>\n",
       "      <td>...</td>\n",
       "      <td>...</td>\n",
       "      <td>...</td>\n",
       "      <td>...</td>\n",
       "      <td>...</td>\n",
       "      <td>...</td>\n",
       "    </tr>\n",
       "    <tr>\n",
       "      <th>1056</th>\n",
       "      <td>Activa 3g</td>\n",
       "      <td>17000</td>\n",
       "      <td>2010</td>\n",
       "      <td>Individual</td>\n",
       "      <td>1st owner</td>\n",
       "      <td>500000</td>\n",
       "      <td>52000.0</td>\n",
       "    </tr>\n",
       "    <tr>\n",
       "      <th>1057</th>\n",
       "      <td>Honda CB twister</td>\n",
       "      <td>16000</td>\n",
       "      <td>2012</td>\n",
       "      <td>Individual</td>\n",
       "      <td>1st owner</td>\n",
       "      <td>33000</td>\n",
       "      <td>51000.0</td>\n",
       "    </tr>\n",
       "    <tr>\n",
       "      <th>1058</th>\n",
       "      <td>Bajaj Discover 125</td>\n",
       "      <td>15000</td>\n",
       "      <td>2013</td>\n",
       "      <td>Individual</td>\n",
       "      <td>2nd owner</td>\n",
       "      <td>35000</td>\n",
       "      <td>57000.0</td>\n",
       "    </tr>\n",
       "    <tr>\n",
       "      <th>1059</th>\n",
       "      <td>Honda CB Shine</td>\n",
       "      <td>12000</td>\n",
       "      <td>2009</td>\n",
       "      <td>Individual</td>\n",
       "      <td>1st owner</td>\n",
       "      <td>53000</td>\n",
       "      <td>58000.0</td>\n",
       "    </tr>\n",
       "    <tr>\n",
       "      <th>1060</th>\n",
       "      <td>Bajaj Pulsar 150</td>\n",
       "      <td>10000</td>\n",
       "      <td>2008</td>\n",
       "      <td>Individual</td>\n",
       "      <td>1st owner</td>\n",
       "      <td>92233</td>\n",
       "      <td>75000.0</td>\n",
       "    </tr>\n",
       "  </tbody>\n",
       "</table>\n",
       "<p>1061 rows × 7 columns</p>\n",
       "</div>"
      ],
      "text/plain": [
       "                                     name  selling_price  year seller_type  \\\n",
       "0               Royal Enfield Classic 350         175000  2019  Individual   \n",
       "1                               Honda Dio          45000  2017  Individual   \n",
       "2     Royal Enfield Classic Gunmetal Grey         150000  2018  Individual   \n",
       "3       Yamaha Fazer FI V 2.0 [2016-2018]          65000  2015  Individual   \n",
       "4                   Yamaha SZ [2013-2014]          20000  2011  Individual   \n",
       "...                                   ...            ...   ...         ...   \n",
       "1056                            Activa 3g          17000  2010  Individual   \n",
       "1057                     Honda CB twister          16000  2012  Individual   \n",
       "1058                   Bajaj Discover 125          15000  2013  Individual   \n",
       "1059                       Honda CB Shine          12000  2009  Individual   \n",
       "1060                     Bajaj Pulsar 150          10000  2008  Individual   \n",
       "\n",
       "          owner  km_driven  ex_showroom_price  \n",
       "0     1st owner        350                NaN  \n",
       "1     1st owner       5650                NaN  \n",
       "2     1st owner      12000           148114.0  \n",
       "3     1st owner      23000            89643.0  \n",
       "4     2nd owner      21000                NaN  \n",
       "...         ...        ...                ...  \n",
       "1056  1st owner     500000            52000.0  \n",
       "1057  1st owner      33000            51000.0  \n",
       "1058  2nd owner      35000            57000.0  \n",
       "1059  1st owner      53000            58000.0  \n",
       "1060  1st owner      92233            75000.0  \n",
       "\n",
       "[1061 rows x 7 columns]"
      ]
     },
     "execution_count": 4,
     "metadata": {},
     "output_type": "execute_result"
    }
   ],
   "source": [
    "df"
   ]
  },
  {
   "cell_type": "code",
   "execution_count": 5,
   "id": "a85450b8",
   "metadata": {},
   "outputs": [],
   "source": [
    "#check first fiev row and col "
   ]
  },
  {
   "cell_type": "code",
   "execution_count": 6,
   "id": "09527aaf",
   "metadata": {},
   "outputs": [
    {
     "data": {
      "text/html": [
       "<div>\n",
       "<style scoped>\n",
       "    .dataframe tbody tr th:only-of-type {\n",
       "        vertical-align: middle;\n",
       "    }\n",
       "\n",
       "    .dataframe tbody tr th {\n",
       "        vertical-align: top;\n",
       "    }\n",
       "\n",
       "    .dataframe thead th {\n",
       "        text-align: right;\n",
       "    }\n",
       "</style>\n",
       "<table border=\"1\" class=\"dataframe\">\n",
       "  <thead>\n",
       "    <tr style=\"text-align: right;\">\n",
       "      <th></th>\n",
       "      <th>name</th>\n",
       "      <th>selling_price</th>\n",
       "      <th>year</th>\n",
       "      <th>seller_type</th>\n",
       "      <th>owner</th>\n",
       "      <th>km_driven</th>\n",
       "      <th>ex_showroom_price</th>\n",
       "    </tr>\n",
       "  </thead>\n",
       "  <tbody>\n",
       "    <tr>\n",
       "      <th>0</th>\n",
       "      <td>Royal Enfield Classic 350</td>\n",
       "      <td>175000</td>\n",
       "      <td>2019</td>\n",
       "      <td>Individual</td>\n",
       "      <td>1st owner</td>\n",
       "      <td>350</td>\n",
       "      <td>NaN</td>\n",
       "    </tr>\n",
       "    <tr>\n",
       "      <th>1</th>\n",
       "      <td>Honda Dio</td>\n",
       "      <td>45000</td>\n",
       "      <td>2017</td>\n",
       "      <td>Individual</td>\n",
       "      <td>1st owner</td>\n",
       "      <td>5650</td>\n",
       "      <td>NaN</td>\n",
       "    </tr>\n",
       "    <tr>\n",
       "      <th>2</th>\n",
       "      <td>Royal Enfield Classic Gunmetal Grey</td>\n",
       "      <td>150000</td>\n",
       "      <td>2018</td>\n",
       "      <td>Individual</td>\n",
       "      <td>1st owner</td>\n",
       "      <td>12000</td>\n",
       "      <td>148114.0</td>\n",
       "    </tr>\n",
       "    <tr>\n",
       "      <th>3</th>\n",
       "      <td>Yamaha Fazer FI V 2.0 [2016-2018]</td>\n",
       "      <td>65000</td>\n",
       "      <td>2015</td>\n",
       "      <td>Individual</td>\n",
       "      <td>1st owner</td>\n",
       "      <td>23000</td>\n",
       "      <td>89643.0</td>\n",
       "    </tr>\n",
       "    <tr>\n",
       "      <th>4</th>\n",
       "      <td>Yamaha SZ [2013-2014]</td>\n",
       "      <td>20000</td>\n",
       "      <td>2011</td>\n",
       "      <td>Individual</td>\n",
       "      <td>2nd owner</td>\n",
       "      <td>21000</td>\n",
       "      <td>NaN</td>\n",
       "    </tr>\n",
       "  </tbody>\n",
       "</table>\n",
       "</div>"
      ],
      "text/plain": [
       "                                  name  selling_price  year seller_type  \\\n",
       "0            Royal Enfield Classic 350         175000  2019  Individual   \n",
       "1                            Honda Dio          45000  2017  Individual   \n",
       "2  Royal Enfield Classic Gunmetal Grey         150000  2018  Individual   \n",
       "3    Yamaha Fazer FI V 2.0 [2016-2018]          65000  2015  Individual   \n",
       "4                Yamaha SZ [2013-2014]          20000  2011  Individual   \n",
       "\n",
       "       owner  km_driven  ex_showroom_price  \n",
       "0  1st owner        350                NaN  \n",
       "1  1st owner       5650                NaN  \n",
       "2  1st owner      12000           148114.0  \n",
       "3  1st owner      23000            89643.0  \n",
       "4  2nd owner      21000                NaN  "
      ]
     },
     "execution_count": 6,
     "metadata": {},
     "output_type": "execute_result"
    }
   ],
   "source": [
    "df.head()"
   ]
  },
  {
   "cell_type": "code",
   "execution_count": 7,
   "id": "fb527c1f",
   "metadata": {},
   "outputs": [],
   "source": [
    "# check last row and col "
   ]
  },
  {
   "cell_type": "code",
   "execution_count": 8,
   "id": "b2ed2511",
   "metadata": {},
   "outputs": [
    {
     "data": {
      "text/html": [
       "<div>\n",
       "<style scoped>\n",
       "    .dataframe tbody tr th:only-of-type {\n",
       "        vertical-align: middle;\n",
       "    }\n",
       "\n",
       "    .dataframe tbody tr th {\n",
       "        vertical-align: top;\n",
       "    }\n",
       "\n",
       "    .dataframe thead th {\n",
       "        text-align: right;\n",
       "    }\n",
       "</style>\n",
       "<table border=\"1\" class=\"dataframe\">\n",
       "  <thead>\n",
       "    <tr style=\"text-align: right;\">\n",
       "      <th></th>\n",
       "      <th>name</th>\n",
       "      <th>selling_price</th>\n",
       "      <th>year</th>\n",
       "      <th>seller_type</th>\n",
       "      <th>owner</th>\n",
       "      <th>km_driven</th>\n",
       "      <th>ex_showroom_price</th>\n",
       "    </tr>\n",
       "  </thead>\n",
       "  <tbody>\n",
       "    <tr>\n",
       "      <th>1056</th>\n",
       "      <td>Activa 3g</td>\n",
       "      <td>17000</td>\n",
       "      <td>2010</td>\n",
       "      <td>Individual</td>\n",
       "      <td>1st owner</td>\n",
       "      <td>500000</td>\n",
       "      <td>52000.0</td>\n",
       "    </tr>\n",
       "    <tr>\n",
       "      <th>1057</th>\n",
       "      <td>Honda CB twister</td>\n",
       "      <td>16000</td>\n",
       "      <td>2012</td>\n",
       "      <td>Individual</td>\n",
       "      <td>1st owner</td>\n",
       "      <td>33000</td>\n",
       "      <td>51000.0</td>\n",
       "    </tr>\n",
       "    <tr>\n",
       "      <th>1058</th>\n",
       "      <td>Bajaj Discover 125</td>\n",
       "      <td>15000</td>\n",
       "      <td>2013</td>\n",
       "      <td>Individual</td>\n",
       "      <td>2nd owner</td>\n",
       "      <td>35000</td>\n",
       "      <td>57000.0</td>\n",
       "    </tr>\n",
       "    <tr>\n",
       "      <th>1059</th>\n",
       "      <td>Honda CB Shine</td>\n",
       "      <td>12000</td>\n",
       "      <td>2009</td>\n",
       "      <td>Individual</td>\n",
       "      <td>1st owner</td>\n",
       "      <td>53000</td>\n",
       "      <td>58000.0</td>\n",
       "    </tr>\n",
       "    <tr>\n",
       "      <th>1060</th>\n",
       "      <td>Bajaj Pulsar 150</td>\n",
       "      <td>10000</td>\n",
       "      <td>2008</td>\n",
       "      <td>Individual</td>\n",
       "      <td>1st owner</td>\n",
       "      <td>92233</td>\n",
       "      <td>75000.0</td>\n",
       "    </tr>\n",
       "  </tbody>\n",
       "</table>\n",
       "</div>"
      ],
      "text/plain": [
       "                    name  selling_price  year seller_type      owner  \\\n",
       "1056           Activa 3g          17000  2010  Individual  1st owner   \n",
       "1057    Honda CB twister          16000  2012  Individual  1st owner   \n",
       "1058  Bajaj Discover 125          15000  2013  Individual  2nd owner   \n",
       "1059      Honda CB Shine          12000  2009  Individual  1st owner   \n",
       "1060    Bajaj Pulsar 150          10000  2008  Individual  1st owner   \n",
       "\n",
       "      km_driven  ex_showroom_price  \n",
       "1056     500000            52000.0  \n",
       "1057      33000            51000.0  \n",
       "1058      35000            57000.0  \n",
       "1059      53000            58000.0  \n",
       "1060      92233            75000.0  "
      ]
     },
     "execution_count": 8,
     "metadata": {},
     "output_type": "execute_result"
    }
   ],
   "source": [
    "df.tail()"
   ]
  },
  {
   "cell_type": "code",
   "execution_count": 9,
   "id": "c07e323f",
   "metadata": {},
   "outputs": [],
   "source": [
    "# checking no of row and col\n"
   ]
  },
  {
   "cell_type": "code",
   "execution_count": 10,
   "id": "03dc19c0",
   "metadata": {},
   "outputs": [
    {
     "data": {
      "text/plain": [
       "(1061, 7)"
      ]
     },
     "execution_count": 10,
     "metadata": {},
     "output_type": "execute_result"
    }
   ],
   "source": [
    "df.shape "
   ]
  },
  {
   "cell_type": "code",
   "execution_count": 11,
   "id": "499ace30",
   "metadata": {},
   "outputs": [],
   "source": [
    "# check statistical value "
   ]
  },
  {
   "cell_type": "code",
   "execution_count": 12,
   "id": "7a7f80db",
   "metadata": {},
   "outputs": [
    {
     "data": {
      "text/html": [
       "<div>\n",
       "<style scoped>\n",
       "    .dataframe tbody tr th:only-of-type {\n",
       "        vertical-align: middle;\n",
       "    }\n",
       "\n",
       "    .dataframe tbody tr th {\n",
       "        vertical-align: top;\n",
       "    }\n",
       "\n",
       "    .dataframe thead th {\n",
       "        text-align: right;\n",
       "    }\n",
       "</style>\n",
       "<table border=\"1\" class=\"dataframe\">\n",
       "  <thead>\n",
       "    <tr style=\"text-align: right;\">\n",
       "      <th></th>\n",
       "      <th>selling_price</th>\n",
       "      <th>year</th>\n",
       "      <th>km_driven</th>\n",
       "      <th>ex_showroom_price</th>\n",
       "    </tr>\n",
       "  </thead>\n",
       "  <tbody>\n",
       "    <tr>\n",
       "      <th>count</th>\n",
       "      <td>1061.000000</td>\n",
       "      <td>1061.000000</td>\n",
       "      <td>1061.000000</td>\n",
       "      <td>6.260000e+02</td>\n",
       "    </tr>\n",
       "    <tr>\n",
       "      <th>mean</th>\n",
       "      <td>59638.151744</td>\n",
       "      <td>2013.867107</td>\n",
       "      <td>34359.833176</td>\n",
       "      <td>8.795871e+04</td>\n",
       "    </tr>\n",
       "    <tr>\n",
       "      <th>std</th>\n",
       "      <td>56304.291973</td>\n",
       "      <td>4.301191</td>\n",
       "      <td>51623.152702</td>\n",
       "      <td>7.749659e+04</td>\n",
       "    </tr>\n",
       "    <tr>\n",
       "      <th>min</th>\n",
       "      <td>5000.000000</td>\n",
       "      <td>1988.000000</td>\n",
       "      <td>350.000000</td>\n",
       "      <td>3.049000e+04</td>\n",
       "    </tr>\n",
       "    <tr>\n",
       "      <th>25%</th>\n",
       "      <td>28000.000000</td>\n",
       "      <td>2011.000000</td>\n",
       "      <td>13500.000000</td>\n",
       "      <td>5.485200e+04</td>\n",
       "    </tr>\n",
       "    <tr>\n",
       "      <th>50%</th>\n",
       "      <td>45000.000000</td>\n",
       "      <td>2015.000000</td>\n",
       "      <td>25000.000000</td>\n",
       "      <td>7.275250e+04</td>\n",
       "    </tr>\n",
       "    <tr>\n",
       "      <th>75%</th>\n",
       "      <td>70000.000000</td>\n",
       "      <td>2017.000000</td>\n",
       "      <td>43000.000000</td>\n",
       "      <td>8.703150e+04</td>\n",
       "    </tr>\n",
       "    <tr>\n",
       "      <th>max</th>\n",
       "      <td>760000.000000</td>\n",
       "      <td>2020.000000</td>\n",
       "      <td>880000.000000</td>\n",
       "      <td>1.278000e+06</td>\n",
       "    </tr>\n",
       "  </tbody>\n",
       "</table>\n",
       "</div>"
      ],
      "text/plain": [
       "       selling_price         year      km_driven  ex_showroom_price\n",
       "count    1061.000000  1061.000000    1061.000000       6.260000e+02\n",
       "mean    59638.151744  2013.867107   34359.833176       8.795871e+04\n",
       "std     56304.291973     4.301191   51623.152702       7.749659e+04\n",
       "min      5000.000000  1988.000000     350.000000       3.049000e+04\n",
       "25%     28000.000000  2011.000000   13500.000000       5.485200e+04\n",
       "50%     45000.000000  2015.000000   25000.000000       7.275250e+04\n",
       "75%     70000.000000  2017.000000   43000.000000       8.703150e+04\n",
       "max    760000.000000  2020.000000  880000.000000       1.278000e+06"
      ]
     },
     "execution_count": 12,
     "metadata": {},
     "output_type": "execute_result"
    }
   ],
   "source": [
    "df.describe()"
   ]
  },
  {
   "cell_type": "code",
   "execution_count": 13,
   "id": "2dd0bf0c",
   "metadata": {},
   "outputs": [],
   "source": [
    "# checking null values "
   ]
  },
  {
   "cell_type": "code",
   "execution_count": 14,
   "id": "a3a0fccf",
   "metadata": {},
   "outputs": [
    {
     "data": {
      "text/plain": [
       "name                   0\n",
       "selling_price          0\n",
       "year                   0\n",
       "seller_type            0\n",
       "owner                  0\n",
       "km_driven              0\n",
       "ex_showroom_price    435\n",
       "dtype: int64"
      ]
     },
     "execution_count": 14,
     "metadata": {},
     "output_type": "execute_result"
    }
   ],
   "source": [
    "df.isnull().sum()"
   ]
  },
  {
   "cell_type": "code",
   "execution_count": 15,
   "id": "c8045506",
   "metadata": {},
   "outputs": [
    {
     "name": "stdout",
     "output_type": "stream",
     "text": [
      "<class 'pandas.core.frame.DataFrame'>\n",
      "RangeIndex: 1061 entries, 0 to 1060\n",
      "Data columns (total 7 columns):\n",
      " #   Column             Non-Null Count  Dtype  \n",
      "---  ------             --------------  -----  \n",
      " 0   name               1061 non-null   object \n",
      " 1   selling_price      1061 non-null   int64  \n",
      " 2   year               1061 non-null   int64  \n",
      " 3   seller_type        1061 non-null   object \n",
      " 4   owner              1061 non-null   object \n",
      " 5   km_driven          1061 non-null   int64  \n",
      " 6   ex_showroom_price  626 non-null    float64\n",
      "dtypes: float64(1), int64(3), object(3)\n",
      "memory usage: 58.1+ KB\n"
     ]
    }
   ],
   "source": [
    "df.info()"
   ]
  },
  {
   "cell_type": "code",
   "execution_count": 16,
   "id": "c63d4dfc",
   "metadata": {},
   "outputs": [],
   "source": [
    "# missing value treatment "
   ]
  },
  {
   "cell_type": "code",
   "execution_count": 17,
   "id": "e6b2dced",
   "metadata": {},
   "outputs": [],
   "source": [
    "df['ex_showroom_price']=df['ex_showroom_price'].fillna(df['ex_showroom_price'].median())"
   ]
  },
  {
   "cell_type": "code",
   "execution_count": 18,
   "id": "ce2424fc",
   "metadata": {},
   "outputs": [
    {
     "data": {
      "text/plain": [
       "name                 0\n",
       "selling_price        0\n",
       "year                 0\n",
       "seller_type          0\n",
       "owner                0\n",
       "km_driven            0\n",
       "ex_showroom_price    0\n",
       "dtype: int64"
      ]
     },
     "execution_count": 18,
     "metadata": {},
     "output_type": "execute_result"
    }
   ],
   "source": [
    "df.isnull().sum()"
   ]
  },
  {
   "cell_type": "markdown",
   "id": "b4f46d76",
   "metadata": {},
   "source": [
    "fill null value done "
   ]
  },
  {
   "cell_type": "markdown",
   "id": "86505190",
   "metadata": {},
   "source": [
    "# drop irrelevant column "
   ]
  },
  {
   "cell_type": "code",
   "execution_count": 19,
   "id": "f8e041ac",
   "metadata": {},
   "outputs": [],
   "source": [
    "df.drop('name',axis=1,inplace=True)"
   ]
  },
  {
   "cell_type": "code",
   "execution_count": 20,
   "id": "b02d7197",
   "metadata": {},
   "outputs": [
    {
     "data": {
      "text/html": [
       "<div>\n",
       "<style scoped>\n",
       "    .dataframe tbody tr th:only-of-type {\n",
       "        vertical-align: middle;\n",
       "    }\n",
       "\n",
       "    .dataframe tbody tr th {\n",
       "        vertical-align: top;\n",
       "    }\n",
       "\n",
       "    .dataframe thead th {\n",
       "        text-align: right;\n",
       "    }\n",
       "</style>\n",
       "<table border=\"1\" class=\"dataframe\">\n",
       "  <thead>\n",
       "    <tr style=\"text-align: right;\">\n",
       "      <th></th>\n",
       "      <th>selling_price</th>\n",
       "      <th>year</th>\n",
       "      <th>seller_type</th>\n",
       "      <th>owner</th>\n",
       "      <th>km_driven</th>\n",
       "      <th>ex_showroom_price</th>\n",
       "    </tr>\n",
       "  </thead>\n",
       "  <tbody>\n",
       "    <tr>\n",
       "      <th>0</th>\n",
       "      <td>175000</td>\n",
       "      <td>2019</td>\n",
       "      <td>Individual</td>\n",
       "      <td>1st owner</td>\n",
       "      <td>350</td>\n",
       "      <td>72752.5</td>\n",
       "    </tr>\n",
       "    <tr>\n",
       "      <th>1</th>\n",
       "      <td>45000</td>\n",
       "      <td>2017</td>\n",
       "      <td>Individual</td>\n",
       "      <td>1st owner</td>\n",
       "      <td>5650</td>\n",
       "      <td>72752.5</td>\n",
       "    </tr>\n",
       "    <tr>\n",
       "      <th>2</th>\n",
       "      <td>150000</td>\n",
       "      <td>2018</td>\n",
       "      <td>Individual</td>\n",
       "      <td>1st owner</td>\n",
       "      <td>12000</td>\n",
       "      <td>148114.0</td>\n",
       "    </tr>\n",
       "    <tr>\n",
       "      <th>3</th>\n",
       "      <td>65000</td>\n",
       "      <td>2015</td>\n",
       "      <td>Individual</td>\n",
       "      <td>1st owner</td>\n",
       "      <td>23000</td>\n",
       "      <td>89643.0</td>\n",
       "    </tr>\n",
       "    <tr>\n",
       "      <th>4</th>\n",
       "      <td>20000</td>\n",
       "      <td>2011</td>\n",
       "      <td>Individual</td>\n",
       "      <td>2nd owner</td>\n",
       "      <td>21000</td>\n",
       "      <td>72752.5</td>\n",
       "    </tr>\n",
       "    <tr>\n",
       "      <th>...</th>\n",
       "      <td>...</td>\n",
       "      <td>...</td>\n",
       "      <td>...</td>\n",
       "      <td>...</td>\n",
       "      <td>...</td>\n",
       "      <td>...</td>\n",
       "    </tr>\n",
       "    <tr>\n",
       "      <th>1056</th>\n",
       "      <td>17000</td>\n",
       "      <td>2010</td>\n",
       "      <td>Individual</td>\n",
       "      <td>1st owner</td>\n",
       "      <td>500000</td>\n",
       "      <td>52000.0</td>\n",
       "    </tr>\n",
       "    <tr>\n",
       "      <th>1057</th>\n",
       "      <td>16000</td>\n",
       "      <td>2012</td>\n",
       "      <td>Individual</td>\n",
       "      <td>1st owner</td>\n",
       "      <td>33000</td>\n",
       "      <td>51000.0</td>\n",
       "    </tr>\n",
       "    <tr>\n",
       "      <th>1058</th>\n",
       "      <td>15000</td>\n",
       "      <td>2013</td>\n",
       "      <td>Individual</td>\n",
       "      <td>2nd owner</td>\n",
       "      <td>35000</td>\n",
       "      <td>57000.0</td>\n",
       "    </tr>\n",
       "    <tr>\n",
       "      <th>1059</th>\n",
       "      <td>12000</td>\n",
       "      <td>2009</td>\n",
       "      <td>Individual</td>\n",
       "      <td>1st owner</td>\n",
       "      <td>53000</td>\n",
       "      <td>58000.0</td>\n",
       "    </tr>\n",
       "    <tr>\n",
       "      <th>1060</th>\n",
       "      <td>10000</td>\n",
       "      <td>2008</td>\n",
       "      <td>Individual</td>\n",
       "      <td>1st owner</td>\n",
       "      <td>92233</td>\n",
       "      <td>75000.0</td>\n",
       "    </tr>\n",
       "  </tbody>\n",
       "</table>\n",
       "<p>1061 rows × 6 columns</p>\n",
       "</div>"
      ],
      "text/plain": [
       "      selling_price  year seller_type      owner  km_driven  ex_showroom_price\n",
       "0            175000  2019  Individual  1st owner        350            72752.5\n",
       "1             45000  2017  Individual  1st owner       5650            72752.5\n",
       "2            150000  2018  Individual  1st owner      12000           148114.0\n",
       "3             65000  2015  Individual  1st owner      23000            89643.0\n",
       "4             20000  2011  Individual  2nd owner      21000            72752.5\n",
       "...             ...   ...         ...        ...        ...                ...\n",
       "1056          17000  2010  Individual  1st owner     500000            52000.0\n",
       "1057          16000  2012  Individual  1st owner      33000            51000.0\n",
       "1058          15000  2013  Individual  2nd owner      35000            57000.0\n",
       "1059          12000  2009  Individual  1st owner      53000            58000.0\n",
       "1060          10000  2008  Individual  1st owner      92233            75000.0\n",
       "\n",
       "[1061 rows x 6 columns]"
      ]
     },
     "execution_count": 20,
     "metadata": {},
     "output_type": "execute_result"
    }
   ],
   "source": [
    "df"
   ]
  },
  {
   "cell_type": "markdown",
   "id": "79803332",
   "metadata": {},
   "source": [
    "# data visualization "
   ]
  },
  {
   "cell_type": "markdown",
   "id": "61e6502c",
   "metadata": {},
   "source": [
    "# univariate analysis "
   ]
  },
  {
   "cell_type": "code",
   "execution_count": 21,
   "id": "882b3e2e",
   "metadata": {},
   "outputs": [
    {
     "data": {
      "text/plain": [
       "<AxesSubplot:xlabel='year', ylabel='count'>"
      ]
     },
     "execution_count": 21,
     "metadata": {},
     "output_type": "execute_result"
    },
    {
     "data": {
      "image/png": "[encoded data removed]",
      "text/plain": [
       "<Figure size 432x288 with 1 Axes>"
      ]
     },
     "metadata": {
      "needs_background": "light"
     },
     "output_type": "display_data"
    }
   ],
   "source": [
    "sns.countplot(x='year',data=df)"
   ]
  },
  {
   "cell_type": "code",
   "execution_count": 22,
   "id": "9c0d16a3",
   "metadata": {},
   "outputs": [
    {
     "data": {
      "text/plain": [
       "<seaborn.axisgrid.FacetGrid at 0x1fea25d0f10>"
      ]
     },
     "execution_count": 22,
     "metadata": {},
     "output_type": "execute_result"
    },
    {
     "data": {
      "image/png": "[encoded data removed]",
      "text/plain": [
       "<Figure size 360x360 with 1 Axes>"
      ]
     },
     "metadata": {
      "needs_background": "light"
     },
     "output_type": "display_data"
    }
   ],
   "source": [
    "sns.displot(df['year'])"
   ]
  },
  {
   "cell_type": "code",
   "execution_count": 23,
   "id": "c13451ca",
   "metadata": {},
   "outputs": [
    {
     "data": {
      "text/plain": [
       "<AxesSubplot:xlabel='year', ylabel='Count'>"
      ]
     },
     "execution_count": 23,
     "metadata": {},
     "output_type": "execute_result"
    },
    {
     "data": {
      "image/png": "[encoded data removed]",
      "text/plain": [
       "<Figure size 432x288 with 1 Axes>"
      ]
     },
     "metadata": {
      "needs_background": "light"
     },
     "output_type": "display_data"
    }
   ],
   "source": [
    "sns.histplot(x='year',data=df,binwidth=5)"
   ]
  },
  {
   "cell_type": "code",
   "execution_count": 24,
   "id": "37da8837",
   "metadata": {},
   "outputs": [
    {
     "data": {
      "text/plain": [
       "<AxesSubplot:xlabel='owner', ylabel='count'>"
      ]
     },
     "execution_count": 24,
     "metadata": {},
     "output_type": "execute_result"
    },
    {
     "data": {
      "image/png": "[encoded data removed]",
      "text/plain": [
       "<Figure size 432x288 with 1 Axes>"
      ]
     },
     "metadata": {
      "needs_background": "light"
     },
     "output_type": "display_data"
    }
   ],
   "source": [
    "sns.countplot(x='owner',data=df)"
   ]
  },
  {
   "cell_type": "markdown",
   "id": "ef055c02",
   "metadata": {},
   "source": [
    "# bivariate analysis "
   ]
  },
  {
   "cell_type": "code",
   "execution_count": 25,
   "id": "7be6e46c",
   "metadata": {},
   "outputs": [
    {
     "data": {
      "text/plain": [
       "<AxesSubplot:xlabel='year', ylabel='count'>"
      ]
     },
     "execution_count": 25,
     "metadata": {},
     "output_type": "execute_result"
    },
    {
     "data": {
      "image/png": "[encoded data removed]",
      "text/plain": [
       "<Figure size 432x288 with 1 Axes>"
      ]
     },
     "metadata": {
      "needs_background": "light"
     },
     "output_type": "display_data"
    }
   ],
   "source": [
    "sns.countplot(x='year',hue='owner',data=df)"
   ]
  },
  {
   "cell_type": "code",
   "execution_count": 26,
   "id": "bc292f6c",
   "metadata": {},
   "outputs": [],
   "source": [
    "# multivariate analysis "
   ]
  },
  {
   "cell_type": "code",
   "execution_count": 27,
   "id": "b28a047b",
   "metadata": {},
   "outputs": [
    {
     "data": {
      "text/plain": [
       "<seaborn.axisgrid.PairGrid at 0x1fea2dd0100>"
      ]
     },
     "execution_count": 27,
     "metadata": {},
     "output_type": "execute_result"
    },
    {
     "data": {
      "image/png": "[encoded data removed]",
      "text/plain": [
       "<Figure size 720x720 with 20 Axes>"
      ]
     },
     "metadata": {
      "needs_background": "light"
     },
     "output_type": "display_data"
    }
   ],
   "source": [
    "sns.pairplot(df)"
   ]
  },
  {
   "cell_type": "code",
   "execution_count": 28,
   "id": "585bd572",
   "metadata": {},
   "outputs": [],
   "source": [
    "# feature encoding "
   ]
  },
  {
   "cell_type": "code",
   "execution_count": 29,
   "id": "23f06111",
   "metadata": {},
   "outputs": [],
   "source": [
    "df['seller_type']=df['seller_type'].map({'Individual':0,'Dealer':1})"
   ]
  },
  {
   "cell_type": "code",
   "execution_count": 30,
   "id": "7d503421",
   "metadata": {},
   "outputs": [
    {
     "data": {
      "text/html": [
       "<div>\n",
       "<style scoped>\n",
       "    .dataframe tbody tr th:only-of-type {\n",
       "        vertical-align: middle;\n",
       "    }\n",
       "\n",
       "    .dataframe tbody tr th {\n",
       "        vertical-align: top;\n",
       "    }\n",
       "\n",
       "    .dataframe thead th {\n",
       "        text-align: right;\n",
       "    }\n",
       "</style>\n",
       "<table border=\"1\" class=\"dataframe\">\n",
       "  <thead>\n",
       "    <tr style=\"text-align: right;\">\n",
       "      <th></th>\n",
       "      <th>selling_price</th>\n",
       "      <th>year</th>\n",
       "      <th>seller_type</th>\n",
       "      <th>owner</th>\n",
       "      <th>km_driven</th>\n",
       "      <th>ex_showroom_price</th>\n",
       "    </tr>\n",
       "  </thead>\n",
       "  <tbody>\n",
       "    <tr>\n",
       "      <th>0</th>\n",
       "      <td>175000</td>\n",
       "      <td>2019</td>\n",
       "      <td>0</td>\n",
       "      <td>1st owner</td>\n",
       "      <td>350</td>\n",
       "      <td>72752.5</td>\n",
       "    </tr>\n",
       "    <tr>\n",
       "      <th>1</th>\n",
       "      <td>45000</td>\n",
       "      <td>2017</td>\n",
       "      <td>0</td>\n",
       "      <td>1st owner</td>\n",
       "      <td>5650</td>\n",
       "      <td>72752.5</td>\n",
       "    </tr>\n",
       "    <tr>\n",
       "      <th>2</th>\n",
       "      <td>150000</td>\n",
       "      <td>2018</td>\n",
       "      <td>0</td>\n",
       "      <td>1st owner</td>\n",
       "      <td>12000</td>\n",
       "      <td>148114.0</td>\n",
       "    </tr>\n",
       "    <tr>\n",
       "      <th>3</th>\n",
       "      <td>65000</td>\n",
       "      <td>2015</td>\n",
       "      <td>0</td>\n",
       "      <td>1st owner</td>\n",
       "      <td>23000</td>\n",
       "      <td>89643.0</td>\n",
       "    </tr>\n",
       "    <tr>\n",
       "      <th>4</th>\n",
       "      <td>20000</td>\n",
       "      <td>2011</td>\n",
       "      <td>0</td>\n",
       "      <td>2nd owner</td>\n",
       "      <td>21000</td>\n",
       "      <td>72752.5</td>\n",
       "    </tr>\n",
       "    <tr>\n",
       "      <th>...</th>\n",
       "      <td>...</td>\n",
       "      <td>...</td>\n",
       "      <td>...</td>\n",
       "      <td>...</td>\n",
       "      <td>...</td>\n",
       "      <td>...</td>\n",
       "    </tr>\n",
       "    <tr>\n",
       "      <th>1056</th>\n",
       "      <td>17000</td>\n",
       "      <td>2010</td>\n",
       "      <td>0</td>\n",
       "      <td>1st owner</td>\n",
       "      <td>500000</td>\n",
       "      <td>52000.0</td>\n",
       "    </tr>\n",
       "    <tr>\n",
       "      <th>1057</th>\n",
       "      <td>16000</td>\n",
       "      <td>2012</td>\n",
       "      <td>0</td>\n",
       "      <td>1st owner</td>\n",
       "      <td>33000</td>\n",
       "      <td>51000.0</td>\n",
       "    </tr>\n",
       "    <tr>\n",
       "      <th>1058</th>\n",
       "      <td>15000</td>\n",
       "      <td>2013</td>\n",
       "      <td>0</td>\n",
       "      <td>2nd owner</td>\n",
       "      <td>35000</td>\n",
       "      <td>57000.0</td>\n",
       "    </tr>\n",
       "    <tr>\n",
       "      <th>1059</th>\n",
       "      <td>12000</td>\n",
       "      <td>2009</td>\n",
       "      <td>0</td>\n",
       "      <td>1st owner</td>\n",
       "      <td>53000</td>\n",
       "      <td>58000.0</td>\n",
       "    </tr>\n",
       "    <tr>\n",
       "      <th>1060</th>\n",
       "      <td>10000</td>\n",
       "      <td>2008</td>\n",
       "      <td>0</td>\n",
       "      <td>1st owner</td>\n",
       "      <td>92233</td>\n",
       "      <td>75000.0</td>\n",
       "    </tr>\n",
       "  </tbody>\n",
       "</table>\n",
       "<p>1061 rows × 6 columns</p>\n",
       "</div>"
      ],
      "text/plain": [
       "      selling_price  year  seller_type      owner  km_driven  \\\n",
       "0            175000  2019            0  1st owner        350   \n",
       "1             45000  2017            0  1st owner       5650   \n",
       "2            150000  2018            0  1st owner      12000   \n",
       "3             65000  2015            0  1st owner      23000   \n",
       "4             20000  2011            0  2nd owner      21000   \n",
       "...             ...   ...          ...        ...        ...   \n",
       "1056          17000  2010            0  1st owner     500000   \n",
       "1057          16000  2012            0  1st owner      33000   \n",
       "1058          15000  2013            0  2nd owner      35000   \n",
       "1059          12000  2009            0  1st owner      53000   \n",
       "1060          10000  2008            0  1st owner      92233   \n",
       "\n",
       "      ex_showroom_price  \n",
       "0               72752.5  \n",
       "1               72752.5  \n",
       "2              148114.0  \n",
       "3               89643.0  \n",
       "4               72752.5  \n",
       "...                 ...  \n",
       "1056            52000.0  \n",
       "1057            51000.0  \n",
       "1058            57000.0  \n",
       "1059            58000.0  \n",
       "1060            75000.0  \n",
       "\n",
       "[1061 rows x 6 columns]"
      ]
     },
     "execution_count": 30,
     "metadata": {},
     "output_type": "execute_result"
    }
   ],
   "source": [
    "df"
   ]
  },
  {
   "cell_type": "code",
   "execution_count": 31,
   "id": "38ce114d",
   "metadata": {},
   "outputs": [],
   "source": [
    "df['owner']=df['owner'].map({'1st owner':0,'2nd owner':1,'3rd owner':2,'4th owner':3})"
   ]
  },
  {
   "cell_type": "code",
   "execution_count": 32,
   "id": "d49589b4",
   "metadata": {},
   "outputs": [
    {
     "data": {
      "text/html": [
       "<div>\n",
       "<style scoped>\n",
       "    .dataframe tbody tr th:only-of-type {\n",
       "        vertical-align: middle;\n",
       "    }\n",
       "\n",
       "    .dataframe tbody tr th {\n",
       "        vertical-align: top;\n",
       "    }\n",
       "\n",
       "    .dataframe thead th {\n",
       "        text-align: right;\n",
       "    }\n",
       "</style>\n",
       "<table border=\"1\" class=\"dataframe\">\n",
       "  <thead>\n",
       "    <tr style=\"text-align: right;\">\n",
       "      <th></th>\n",
       "      <th>selling_price</th>\n",
       "      <th>year</th>\n",
       "      <th>seller_type</th>\n",
       "      <th>owner</th>\n",
       "      <th>km_driven</th>\n",
       "      <th>ex_showroom_price</th>\n",
       "    </tr>\n",
       "  </thead>\n",
       "  <tbody>\n",
       "    <tr>\n",
       "      <th>0</th>\n",
       "      <td>175000</td>\n",
       "      <td>2019</td>\n",
       "      <td>0</td>\n",
       "      <td>0</td>\n",
       "      <td>350</td>\n",
       "      <td>72752.5</td>\n",
       "    </tr>\n",
       "    <tr>\n",
       "      <th>1</th>\n",
       "      <td>45000</td>\n",
       "      <td>2017</td>\n",
       "      <td>0</td>\n",
       "      <td>0</td>\n",
       "      <td>5650</td>\n",
       "      <td>72752.5</td>\n",
       "    </tr>\n",
       "    <tr>\n",
       "      <th>2</th>\n",
       "      <td>150000</td>\n",
       "      <td>2018</td>\n",
       "      <td>0</td>\n",
       "      <td>0</td>\n",
       "      <td>12000</td>\n",
       "      <td>148114.0</td>\n",
       "    </tr>\n",
       "    <tr>\n",
       "      <th>3</th>\n",
       "      <td>65000</td>\n",
       "      <td>2015</td>\n",
       "      <td>0</td>\n",
       "      <td>0</td>\n",
       "      <td>23000</td>\n",
       "      <td>89643.0</td>\n",
       "    </tr>\n",
       "    <tr>\n",
       "      <th>4</th>\n",
       "      <td>20000</td>\n",
       "      <td>2011</td>\n",
       "      <td>0</td>\n",
       "      <td>1</td>\n",
       "      <td>21000</td>\n",
       "      <td>72752.5</td>\n",
       "    </tr>\n",
       "    <tr>\n",
       "      <th>...</th>\n",
       "      <td>...</td>\n",
       "      <td>...</td>\n",
       "      <td>...</td>\n",
       "      <td>...</td>\n",
       "      <td>...</td>\n",
       "      <td>...</td>\n",
       "    </tr>\n",
       "    <tr>\n",
       "      <th>1056</th>\n",
       "      <td>17000</td>\n",
       "      <td>2010</td>\n",
       "      <td>0</td>\n",
       "      <td>0</td>\n",
       "      <td>500000</td>\n",
       "      <td>52000.0</td>\n",
       "    </tr>\n",
       "    <tr>\n",
       "      <th>1057</th>\n",
       "      <td>16000</td>\n",
       "      <td>2012</td>\n",
       "      <td>0</td>\n",
       "      <td>0</td>\n",
       "      <td>33000</td>\n",
       "      <td>51000.0</td>\n",
       "    </tr>\n",
       "    <tr>\n",
       "      <th>1058</th>\n",
       "      <td>15000</td>\n",
       "      <td>2013</td>\n",
       "      <td>0</td>\n",
       "      <td>1</td>\n",
       "      <td>35000</td>\n",
       "      <td>57000.0</td>\n",
       "    </tr>\n",
       "    <tr>\n",
       "      <th>1059</th>\n",
       "      <td>12000</td>\n",
       "      <td>2009</td>\n",
       "      <td>0</td>\n",
       "      <td>0</td>\n",
       "      <td>53000</td>\n",
       "      <td>58000.0</td>\n",
       "    </tr>\n",
       "    <tr>\n",
       "      <th>1060</th>\n",
       "      <td>10000</td>\n",
       "      <td>2008</td>\n",
       "      <td>0</td>\n",
       "      <td>0</td>\n",
       "      <td>92233</td>\n",
       "      <td>75000.0</td>\n",
       "    </tr>\n",
       "  </tbody>\n",
       "</table>\n",
       "<p>1061 rows × 6 columns</p>\n",
       "</div>"
      ],
      "text/plain": [
       "      selling_price  year  seller_type  owner  km_driven  ex_showroom_price\n",
       "0            175000  2019            0      0        350            72752.5\n",
       "1             45000  2017            0      0       5650            72752.5\n",
       "2            150000  2018            0      0      12000           148114.0\n",
       "3             65000  2015            0      0      23000            89643.0\n",
       "4             20000  2011            0      1      21000            72752.5\n",
       "...             ...   ...          ...    ...        ...                ...\n",
       "1056          17000  2010            0      0     500000            52000.0\n",
       "1057          16000  2012            0      0      33000            51000.0\n",
       "1058          15000  2013            0      1      35000            57000.0\n",
       "1059          12000  2009            0      0      53000            58000.0\n",
       "1060          10000  2008            0      0      92233            75000.0\n",
       "\n",
       "[1061 rows x 6 columns]"
      ]
     },
     "execution_count": 32,
     "metadata": {},
     "output_type": "execute_result"
    }
   ],
   "source": [
    "df"
   ]
  },
  {
   "cell_type": "code",
   "execution_count": 33,
   "id": "73d74484",
   "metadata": {},
   "outputs": [],
   "source": [
    "# splitting data "
   ]
  },
  {
   "cell_type": "code",
   "execution_count": 34,
   "id": "e2ef9977",
   "metadata": {},
   "outputs": [],
   "source": [
    "X= df.drop('selling_price',axis=1)"
   ]
  },
  {
   "cell_type": "code",
   "execution_count": 35,
   "id": "b11a58f3",
   "metadata": {},
   "outputs": [],
   "source": [
    "y= df['selling_price']"
   ]
  },
  {
   "cell_type": "code",
   "execution_count": 36,
   "id": "b2236dab",
   "metadata": {},
   "outputs": [
    {
     "data": {
      "text/plain": [
       "0       175000\n",
       "1        45000\n",
       "2       150000\n",
       "3        65000\n",
       "4        20000\n",
       "         ...  \n",
       "1056     17000\n",
       "1057     16000\n",
       "1058     15000\n",
       "1059     12000\n",
       "1060     10000\n",
       "Name: selling_price, Length: 1061, dtype: int64"
      ]
     },
     "execution_count": 36,
     "metadata": {},
     "output_type": "execute_result"
    }
   ],
   "source": [
    "y"
   ]
  },
  {
   "cell_type": "markdown",
   "id": "fa142044",
   "metadata": {},
   "source": [
    "# model building "
   ]
  },
  {
   "cell_type": "code",
   "execution_count": 38,
   "id": "a7225a8a",
   "metadata": {},
   "outputs": [],
   "source": [
    "from sklearn.model_selection import train_test_split"
   ]
  },
  {
   "cell_type": "code",
   "execution_count": 39,
   "id": "da8314d6",
   "metadata": {},
   "outputs": [],
   "source": [
    "X_train,X_test,y_train,y_test= train_test_split(X,y,test_size=0.20)"
   ]
  },
  {
   "cell_type": "code",
   "execution_count": 40,
   "id": "4199765b",
   "metadata": {},
   "outputs": [],
   "source": [
    "from sklearn.linear_model import LinearRegression"
   ]
  },
  {
   "cell_type": "code",
   "execution_count": 41,
   "id": "f67f1212",
   "metadata": {},
   "outputs": [],
   "source": [
    "model = LinearRegression()"
   ]
  },
  {
   "cell_type": "code",
   "execution_count": 42,
   "id": "82b3672c",
   "metadata": {},
   "outputs": [
    {
     "data": {
      "text/plain": [
       "LinearRegression()"
      ]
     },
     "execution_count": 42,
     "metadata": {},
     "output_type": "execute_result"
    }
   ],
   "source": [
    "model.fit(X_train,y_train)"
   ]
  },
  {
   "cell_type": "code",
   "execution_count": 43,
   "id": "e527c9d8",
   "metadata": {},
   "outputs": [],
   "source": [
    "y_pred = model.predict(X_test)"
   ]
  },
  {
   "cell_type": "code",
   "execution_count": 44,
   "id": "6f546733",
   "metadata": {},
   "outputs": [
    {
     "data": {
      "text/plain": [
       "0.7977049977642058"
      ]
     },
     "execution_count": 44,
     "metadata": {},
     "output_type": "execute_result"
    }
   ],
   "source": [
    "model.score(X_test,y_test)"
   ]
  },
  {
   "cell_type": "code",
   "execution_count": 45,
   "id": "b2c1a602",
   "metadata": {},
   "outputs": [
    {
     "data": {
      "text/plain": [
       "array([ 4.16965629e+03, -1.12279597e+03, -2.90769427e+02, -5.55258157e-02,\n",
       "        7.11080688e-01])"
      ]
     },
     "execution_count": 45,
     "metadata": {},
     "output_type": "execute_result"
    }
   ],
   "source": [
    "model.coef_"
   ]
  },
  {
   "cell_type": "code",
   "execution_count": 46,
   "id": "25ca6672",
   "metadata": {},
   "outputs": [
    {
     "data": {
      "text/plain": [
       "(213, 5)"
      ]
     },
     "execution_count": 46,
     "metadata": {},
     "output_type": "execute_result"
    }
   ],
   "source": [
    "X_test.shape"
   ]
  },
  {
   "cell_type": "code",
   "execution_count": 47,
   "id": "8694852c",
   "metadata": {},
   "outputs": [
    {
     "data": {
      "text/plain": [
       "(848, 5)"
      ]
     },
     "execution_count": 47,
     "metadata": {},
     "output_type": "execute_result"
    }
   ],
   "source": [
    "X_train.shape"
   ]
  },
  {
   "cell_type": "code",
   "execution_count": 48,
   "id": "8857c72a",
   "metadata": {},
   "outputs": [],
   "source": [
    "# evaluation "
   ]
  },
  {
   "cell_type": "code",
   "execution_count": 49,
   "id": "69d207c0",
   "metadata": {},
   "outputs": [],
   "source": [
    "from sklearn.metrics import r2_score "
   ]
  },
  {
   "cell_type": "code",
   "execution_count": 50,
   "id": "46e6ba99",
   "metadata": {},
   "outputs": [
    {
     "data": {
      "text/plain": [
       "0.7977049977642058"
      ]
     },
     "execution_count": 50,
     "metadata": {},
     "output_type": "execute_result"
    }
   ],
   "source": [
    "r2_score(y_test,y_pred)"
   ]
  },
  {
   "cell_type": "code",
   "execution_count": null,
   "id": "9bd5bce8",
   "metadata": {},
   "outputs": [],
   "source": []
  }
 ],
 "metadata": {
  "kernelspec": {
   "display_name": "Python 3 (ipykernel)",
   "language": "python",
   "name": "python3"
  },
  "language_info": {
   "codemirror_mode": {
    "name": "ipython",
    "version": 3
   },
   "file_extension": ".py",
   "mimetype": "text/x-python",
   "name": "python",
   "nbconvert_exporter": "python",
   "pygments_lexer": "ipython3",
   "version": "3.9.12"
  }
 },
 "nbformat": 4,
 "nbformat_minor": 5
}
